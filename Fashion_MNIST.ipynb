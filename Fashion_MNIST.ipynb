{
  "nbformat": 4,
  "nbformat_minor": 0,
  "metadata": {
    "colab": {
      "name": "Fashion_MNIST.ipynb",
      "provenance": [],
      "authorship_tag": "ABX9TyNHMz/rwB0xGTzMl/sjUGyd",
      "include_colab_link": true
    },
    "kernelspec": {
      "name": "python3",
      "display_name": "Python 3"
    },
    "language_info": {
      "name": "python"
    }
  },
  "cells": [
    {
      "cell_type": "markdown",
      "metadata": {
        "id": "view-in-github",
        "colab_type": "text"
      },
      "source": [
        "<a href=\"https://colab.research.google.com/github/Himanshu584/Fashion_Mnist/blob/main/Fashion_MNIST.ipynb\" target=\"_parent\"><img src=\"https://colab.research.google.com/assets/colab-badge.svg\" alt=\"Open In Colab\"/></a>"
      ]
    },
    {
      "cell_type": "markdown",
      "metadata": {
        "id": "Rp9DasuSAa7W"
      },
      "source": [
        "# DataSet :- \n",
        "  Fashion Mnist is built-in dataset with tensorflow datasets containing 70,000 images of Clothing Items .\n",
        "\n",
        "  Dataset is split into 2 sets:\n",
        "  * Training Data ( 60,000 images )\n",
        "  * Test Data ( 10,000 images )\n",
        "  "
      ]
    },
    {
      "cell_type": "code",
      "metadata": {
        "colab": {
          "base_uri": "https://localhost:8080/",
          "height": 35
        },
        "id": "hPW3I0kyCLYt",
        "outputId": "17e7f0d1-7890-48fc-b96c-3835d956c807"
      },
      "source": [
        "# Import tensorflow \n",
        "import tensorflow as tf\n",
        "tf.__version__"
      ],
      "execution_count": 2,
      "outputs": [
        {
          "output_type": "execute_result",
          "data": {
            "application/vnd.google.colaboratory.intrinsic+json": {
              "type": "string"
            },
            "text/plain": [
              "'2.4.1'"
            ]
          },
          "metadata": {
            "tags": []
          },
          "execution_count": 2
        }
      ]
    },
    {
      "cell_type": "code",
      "metadata": {
        "colab": {
          "base_uri": "https://localhost:8080/"
        },
        "id": "wsHXQec2CPKz",
        "outputId": "edbac82a-cee7-48b3-95cb-833fb3338d82"
      },
      "source": [
        "# Load Data \n",
        "fashion_mnist = tf.keras.datasets.fashion_mnist\n",
        "\n",
        "(train_images, train_labels), (test_images, test_labels) = fashion_mnist.load_data()"
      ],
      "execution_count": 3,
      "outputs": [
        {
          "output_type": "stream",
          "text": [
            "Downloading data from https://storage.googleapis.com/tensorflow/tf-keras-datasets/train-labels-idx1-ubyte.gz\n",
            "32768/29515 [=================================] - 0s 0us/step\n",
            "Downloading data from https://storage.googleapis.com/tensorflow/tf-keras-datasets/train-images-idx3-ubyte.gz\n",
            "26427392/26421880 [==============================] - 0s 0us/step\n",
            "Downloading data from https://storage.googleapis.com/tensorflow/tf-keras-datasets/t10k-labels-idx1-ubyte.gz\n",
            "8192/5148 [===============================================] - 0s 0us/step\n",
            "Downloading data from https://storage.googleapis.com/tensorflow/tf-keras-datasets/t10k-images-idx3-ubyte.gz\n",
            "4423680/4422102 [==============================] - 0s 0us/step\n"
          ],
          "name": "stdout"
        }
      ]
    },
    {
      "cell_type": "markdown",
      "metadata": {
        "id": "koHcmj-OC0C0"
      },
      "source": [
        "Lets view how some of our data looks\n",
        "\n",
        "* print 10 samples "
      ]
    },
    {
      "cell_type": "code",
      "metadata": {
        "colab": {
          "base_uri": "https://localhost:8080/",
          "height": 309
        },
        "id": "4bO_QJXzDJVq",
        "outputId": "b7abaf01-53b6-477b-f03c-0663354e6040"
      },
      "source": [
        "import matplotlib.pyplot as plt  # for graphical / visual representation\n",
        "import numpy as np # To work with numbers and arrays\n",
        "\n",
        "plt.figure(figsize=(12,5))\n",
        "for i in range(10):\n",
        "  plt.subplot(2,5,i+1)\n",
        "  plt.grid(False)\n",
        "  plt.xticks([])\n",
        "  plt.yticks([])\n",
        "  plt.imshow(train_images[i], cmap= plt.cm.binary)\n",
        "  plt.xlabel(train_labels[i])\n",
        "plt.show()"
      ],
      "execution_count": 14,
      "outputs": [
        {
          "output_type": "display_data",
          "data": {
            "image/png": "[encoded data removed]",
            "text/plain": [
              "<Figure size 864x360 with 10 Axes>"
            ]
          },
          "metadata": {
            "tags": []
          }
        }
      ]
    },
    {
      "cell_type": "markdown",
      "metadata": {
        "id": "kJR0HoWHDd4w"
      },
      "source": [
        "Looks like labeo 9 is a shoe, 5 a sandal , 3 a dress and so on ...\n",
        "\n",
        "it would be easy if we could map these to their respective classes.\n",
        "\n",
        "we have 10 diffrent classes "
      ]
    },
    {
      "cell_type": "code",
      "metadata": {
        "id": "9pKbxOvmHIAk"
      },
      "source": [
        "# class labels list\n",
        "class_labels = ['T-shirt/top', 'Trouser', 'Pullover', 'Dress', 'Coat','Sandal', 'Shirt', 'Sneaker', 'Bag', 'Ankle boot']"
      ],
      "execution_count": 19,
      "outputs": []
    },
    {
      "cell_type": "code",
      "metadata": {
        "id": "6ru3nGUOHhaX",
        "outputId": "056a6c6b-e9a3-400c-f87d-ce7d8a266a62",
        "colab": {
          "base_uri": "https://localhost:8080/",
          "height": 368
        }
      },
      "source": [
        "# lets again visualise our data \n",
        "\n",
        "plt.figure(figsize=(12,7))\n",
        "\n",
        "for i in range(10):\n",
        "  plt.subplot(2,5, i+1)\n",
        "  plt.grid(False)\n",
        "  plt.xticks([])\n",
        "  plt.yticks([])\n",
        "  plt.imshow(train_images[i], cmap=plt.cm.binary)\n",
        "  plt.xlabel(class_labels[train_labels[i]])\n",
        "plt.show()"
      ],
      "execution_count": 20,
      "outputs": [
        {
          "output_type": "display_data",
          "data": {
            "image/png": "[encoded data removed]",
            "text/plain": [
              "<Figure size 864x504 with 10 Axes>"
            ]
          },
          "metadata": {
            "tags": []
          }
        }
      ]
    },
    {
      "cell_type": "markdown",
      "metadata": {
        "id": "D68nv5APITXO"
      },
      "source": [
        "Its definatly better than before !"
      ]
    },
    {
      "cell_type": "markdown",
      "metadata": {
        "id": "gL3YKrSuIddl"
      },
      "source": [
        "# Normalising/Scaling\n",
        "\n",
        " since we have images it is better to scale down the images by dividing each train and test images by 255.0 "
      ]
    },
    {
      "cell_type": "code",
      "metadata": {
        "id": "5eQ7Zl-9I7LA",
        "outputId": "e1334d1a-9b1b-48fd-be77-b263ed130087",
        "colab": {
          "base_uri": "https://localhost:8080/"
        }
      },
      "source": [
        "# Scale training and testing images\n",
        "def scale(images):\n",
        "  images = images/255. \n",
        "  images = tf.cast(images, tf.float32)\n",
        "\n",
        "  return images\n",
        "\n",
        "train_images_scaled = scale(train_images)\n",
        "test_images_scaled = scale(test_images)\n",
        "\n",
        "train_images_scaled.dtype, test_images_scaled.dtype"
      ],
      "execution_count": 28,
      "outputs": [
        {
          "output_type": "execute_result",
          "data": {
            "text/plain": [
              "(tf.float32, tf.float32)"
            ]
          },
          "metadata": {
            "tags": []
          },
          "execution_count": 28
        }
      ]
    },
    {
      "cell_type": "markdown",
      "metadata": {
        "id": "JsW_yfECOZFx"
      },
      "source": [
        " We have scaled our training and testing images. We first build a function that takes images as an argument and then divides it by 255.0 to scale down the image.Then the image gets cast into `float32` format which is what neural networks are most comfortable with.\n",
        "\n",
        "\n",
        "Now we can build our classification Deep learning model "
      ]
    },
    {
      "cell_type": "markdown",
      "metadata": {
        "id": "f5XRrz6qPZ9t"
      },
      "source": [
        "# Model Building"
      ]
    },
    {
      "cell_type": "markdown",
      "metadata": {
        "id": "cMgIm_I1Ph41"
      },
      "source": [
        "First model = `model_1` :\n",
        "* 1 flatten layer with input shape = (28,28) \n",
        "* 2 hidden layers with 5 hidden neurons each\n",
        "* 1 output layer with 10 output values because we have 10 diffrent classes\n",
        "* train for 50 epochs\n",
        "\n",
        "we haven't split our data to have validation set so we'll train on training data and evaluate on test data "
      ]
    },
    {
      "cell_type": "code",
      "metadata": {
        "id": "mOfVtflsTwxz",
        "outputId": "0ec2322e-82a7-4560-bff0-dacb18e7c06e",
        "colab": {
          "base_uri": "https://localhost:8080/"
        }
      },
      "source": [
        "train_labels = tf.cast(train_labels, tf.float32)\n",
        "train_labels.dtype"
      ],
      "execution_count": 36,
      "outputs": [
        {
          "output_type": "execute_result",
          "data": {
            "text/plain": [
              "tf.float32"
            ]
          },
          "metadata": {
            "tags": []
          },
          "execution_count": 36
        }
      ]
    },
    {
      "cell_type": "markdown",
      "metadata": {
        "id": "fB1NzxW9T4M-"
      },
      "source": [
        "we had to change the datatype of labels because they were of dtype uint8 which is not supported by tensorflow "
      ]
    },
    {
      "cell_type": "code",
      "metadata": {
        "id": "vU4Fjgh6QVPU",
        "outputId": "7b94df08-b58e-4ab8-c169-ae12dadc0dc0",
        "colab": {
          "base_uri": "https://localhost:8080/"
        }
      },
      "source": [
        "# set random seed for reproducability \n",
        "tf.random.set_seed(42)\n",
        "\n",
        "# Build model_1\n",
        "model_1 = tf.keras.Sequential([\n",
        "    tf.keras.layers.Flatten(input_shape=(28,28)),\n",
        "    tf.keras.layers.Dense(5, activation=tf.keras.activations.relu),\n",
        "    tf.keras.layers.Dense(5, activation=tf.keras.activations.relu),\n",
        "    tf.keras.layers.Dense(10, activation=tf.keras.activations.softmax)\n",
        "])\n",
        "\n",
        "# compile the model\n",
        "model_1.compile(loss=tf.keras.losses.SparseCategoricalCrossentropy(),\n",
        "                optimizer=tf.keras.optimizers.Adam(),\n",
        "                metrics=[\"accuracy\"])\n",
        "\n",
        "# fit model\n",
        "\n",
        "history_1 = model_1.fit(train_images_scaled,train_labels, epochs=50)"
      ],
      "execution_count": 51,
      "outputs": [
        {
          "output_type": "stream",
          "text": [
            "Epoch 1/50\n",
            "1875/1875 [==============================] - 3s 2ms/step - loss: 1.9977 - accuracy: 0.2675\n",
            "Epoch 2/50\n",
            "1875/1875 [==============================] - 3s 2ms/step - loss: 1.1999 - accuracy: 0.5624\n",
            "Epoch 3/50\n",
            "1875/1875 [==============================] - 3s 2ms/step - loss: 1.0122 - accuracy: 0.6077\n",
            "Epoch 4/50\n",
            "1875/1875 [==============================] - 3s 2ms/step - loss: 0.9404 - accuracy: 0.6314\n",
            "Epoch 5/50\n",
            "1875/1875 [==============================] - 3s 2ms/step - loss: 0.8952 - accuracy: 0.6484\n",
            "Epoch 6/50\n",
            "1875/1875 [==============================] - 3s 2ms/step - loss: 0.8808 - accuracy: 0.6552\n",
            "Epoch 7/50\n",
            "1875/1875 [==============================] - 3s 2ms/step - loss: 0.8563 - accuracy: 0.6685\n",
            "Epoch 8/50\n",
            "1875/1875 [==============================] - 3s 2ms/step - loss: 0.8395 - accuracy: 0.6778\n",
            "Epoch 9/50\n",
            "1875/1875 [==============================] - 3s 2ms/step - loss: 0.8323 - accuracy: 0.6815\n",
            "Epoch 10/50\n",
            "1875/1875 [==============================] - 3s 2ms/step - loss: 0.8012 - accuracy: 0.6934\n",
            "Epoch 11/50\n",
            "1875/1875 [==============================] - 3s 1ms/step - loss: 0.8020 - accuracy: 0.7004\n",
            "Epoch 12/50\n",
            "1875/1875 [==============================] - 3s 2ms/step - loss: 0.7887 - accuracy: 0.7058\n",
            "Epoch 13/50\n",
            "1875/1875 [==============================] - 3s 1ms/step - loss: 0.7686 - accuracy: 0.7162\n",
            "Epoch 14/50\n",
            "1875/1875 [==============================] - 3s 2ms/step - loss: 0.7618 - accuracy: 0.7180\n",
            "Epoch 15/50\n",
            "1875/1875 [==============================] - 3s 1ms/step - loss: 0.7563 - accuracy: 0.7252\n",
            "Epoch 16/50\n",
            "1875/1875 [==============================] - 3s 2ms/step - loss: 0.7407 - accuracy: 0.7342\n",
            "Epoch 17/50\n",
            "1875/1875 [==============================] - 3s 1ms/step - loss: 0.7312 - accuracy: 0.7335\n",
            "Epoch 18/50\n",
            "1875/1875 [==============================] - 3s 1ms/step - loss: 0.7238 - accuracy: 0.7363\n",
            "Epoch 19/50\n",
            "1875/1875 [==============================] - 3s 1ms/step - loss: 0.7137 - accuracy: 0.7386\n",
            "Epoch 20/50\n",
            "1875/1875 [==============================] - 3s 1ms/step - loss: 0.7158 - accuracy: 0.7422\n",
            "Epoch 21/50\n",
            "1875/1875 [==============================] - 3s 1ms/step - loss: 0.7027 - accuracy: 0.7434\n",
            "Epoch 22/50\n",
            "1875/1875 [==============================] - 3s 1ms/step - loss: 0.6994 - accuracy: 0.7450\n",
            "Epoch 23/50\n",
            "1875/1875 [==============================] - 3s 2ms/step - loss: 0.7008 - accuracy: 0.7467\n",
            "Epoch 24/50\n",
            "1875/1875 [==============================] - 3s 2ms/step - loss: 0.6978 - accuracy: 0.7503\n",
            "Epoch 25/50\n",
            "1875/1875 [==============================] - 3s 2ms/step - loss: 0.6889 - accuracy: 0.7520\n",
            "Epoch 26/50\n",
            "1875/1875 [==============================] - 3s 2ms/step - loss: 0.6878 - accuracy: 0.7516\n",
            "Epoch 27/50\n",
            "1875/1875 [==============================] - 3s 1ms/step - loss: 0.6817 - accuracy: 0.7532\n",
            "Epoch 28/50\n",
            "1875/1875 [==============================] - 3s 1ms/step - loss: 0.6836 - accuracy: 0.7571\n",
            "Epoch 29/50\n",
            "1875/1875 [==============================] - 3s 1ms/step - loss: 0.6741 - accuracy: 0.7565\n",
            "Epoch 30/50\n",
            "1875/1875 [==============================] - 3s 1ms/step - loss: 0.6648 - accuracy: 0.7611\n",
            "Epoch 31/50\n",
            "1875/1875 [==============================] - 3s 2ms/step - loss: 0.6675 - accuracy: 0.7587\n",
            "Epoch 32/50\n",
            "1875/1875 [==============================] - 3s 2ms/step - loss: 0.6666 - accuracy: 0.7609\n",
            "Epoch 33/50\n",
            "1875/1875 [==============================] - 3s 1ms/step - loss: 0.6470 - accuracy: 0.7672\n",
            "Epoch 34/50\n",
            "1875/1875 [==============================] - 3s 2ms/step - loss: 0.6547 - accuracy: 0.7652\n",
            "Epoch 35/50\n",
            "1875/1875 [==============================] - 3s 2ms/step - loss: 0.6500 - accuracy: 0.7691\n",
            "Epoch 36/50\n",
            "1875/1875 [==============================] - 3s 1ms/step - loss: 0.6604 - accuracy: 0.7654\n",
            "Epoch 37/50\n",
            "1875/1875 [==============================] - 3s 2ms/step - loss: 0.6493 - accuracy: 0.7680\n",
            "Epoch 38/50\n",
            "1875/1875 [==============================] - 3s 2ms/step - loss: 0.6484 - accuracy: 0.7711\n",
            "Epoch 39/50\n",
            "1875/1875 [==============================] - 3s 2ms/step - loss: 0.6420 - accuracy: 0.7718\n",
            "Epoch 40/50\n",
            "1875/1875 [==============================] - 3s 2ms/step - loss: 0.6429 - accuracy: 0.7709\n",
            "Epoch 41/50\n",
            "1875/1875 [==============================] - 3s 2ms/step - loss: 0.6358 - accuracy: 0.7700\n",
            "Epoch 42/50\n",
            "1875/1875 [==============================] - 3s 2ms/step - loss: 0.6353 - accuracy: 0.7734\n",
            "Epoch 43/50\n",
            "1875/1875 [==============================] - 3s 1ms/step - loss: 0.6289 - accuracy: 0.7737\n",
            "Epoch 44/50\n",
            "1875/1875 [==============================] - 3s 1ms/step - loss: 0.6292 - accuracy: 0.7757\n",
            "Epoch 45/50\n",
            "1875/1875 [==============================] - 3s 1ms/step - loss: 0.6396 - accuracy: 0.7761\n",
            "Epoch 46/50\n",
            "1875/1875 [==============================] - 3s 2ms/step - loss: 0.6319 - accuracy: 0.7750\n",
            "Epoch 47/50\n",
            "1875/1875 [==============================] - 3s 2ms/step - loss: 0.6250 - accuracy: 0.7780\n",
            "Epoch 48/50\n",
            "1875/1875 [==============================] - 3s 2ms/step - loss: 0.6235 - accuracy: 0.7774\n",
            "Epoch 49/50\n",
            "1875/1875 [==============================] - 3s 1ms/step - loss: 0.6222 - accuracy: 0.7774\n",
            "Epoch 50/50\n",
            "1875/1875 [==============================] - 3s 2ms/step - loss: 0.6224 - accuracy: 0.7802\n"
          ],
          "name": "stdout"
        }
      ]
    },
    {
      "cell_type": "code",
      "metadata": {
        "id": "eK8C7iqfUgRS",
        "outputId": "ae138cd8-15a3-4490-9b9a-8b19e785efb9",
        "colab": {
          "base_uri": "https://localhost:8080/"
        }
      },
      "source": [
        "# Evaluate on test data \n",
        "test_labels = tf.cast(test_labels, tf.float32)\n",
        "loss , accuracy = model_1.evaluate(test_images_scaled, test_labels)\n",
        "\n",
        "print(f\"Model evaluation loss: {loss} \\n\")\n",
        "print(f\"Model Evalaution accuracy: {(accuracy * 100):.2f} %\")"
      ],
      "execution_count": 55,
      "outputs": [
        {
          "output_type": "stream",
          "text": [
            "313/313 [==============================] - 0s 1ms/step - loss: 0.6503 - accuracy: 0.7682\n",
            "Model evaluation loss: 0.6503485441207886 \n",
            "\n",
            "Model Evalaution accuracy: 76.82 %\n"
          ],
          "name": "stdout"
        }
      ]
    },
    {
      "cell_type": "markdown",
      "metadata": {
        "id": "nL3JRo6RVyki"
      },
      "source": [
        "Lets plot our loss curve"
      ]
    },
    {
      "cell_type": "code",
      "metadata": {
        "id": "IkOA01lNa2ph",
        "outputId": "98c37fd1-60d8-4265-97c9-d4798d4384ec",
        "colab": {
          "base_uri": "https://localhost:8080/",
          "height": 312
        }
      },
      "source": [
        "import pandas as pd\n",
        "pd.DataFrame(history_1.history).plot(title=\"Loss Curve\",xlabel=\"Number of epochs\")"
      ],
      "execution_count": 57,
      "outputs": [
        {
          "output_type": "execute_result",
          "data": {
            "text/plain": [
              "<matplotlib.axes._subplots.AxesSubplot at 0x7ff2ee8afbd0>"
            ]
          },
          "metadata": {
            "tags": []
          },
          "execution_count": 57
        },
        {
          "output_type": "display_data",
          "data": {
            "image/png": "[encoded data removed]",
            "text/plain": [
              "<Figure size 432x288 with 1 Axes>"
            ]
          },
          "metadata": {
            "tags": [],
            "needs_background": "light"
          }
        }
      ]
    },
    {
      "cell_type": "markdown",
      "metadata": {
        "id": "gi6IMXllb1Aa"
      },
      "source": [
        "Lets try if we could improve our model "
      ]
    },
    {
      "cell_type": "markdown",
      "metadata": {
        "id": "yFFaiw7BbJYB"
      },
      "source": [
        "# Model_2\n",
        "Lets build `model-2` with:\n",
        "* Same number of layers as model_1 but with number of hidden neurons as 10 each\n",
        "\n",
        "This time lets set early stopping callback and also increase the learning rate to 0.01"
      ]
    },
    {
      "cell_type": "code",
      "metadata": {
        "id": "y8GEH-_JcrXj",
        "outputId": "0ebab3c2-a190-4691-f997-7ee7fe48ae2b",
        "colab": {
          "base_uri": "https://localhost:8080/"
        }
      },
      "source": [
        "model_1.summary()"
      ],
      "execution_count": 59,
      "outputs": [
        {
          "output_type": "stream",
          "text": [
            "Model: \"sequential_12\"\n",
            "_________________________________________________________________\n",
            "Layer (type)                 Output Shape              Param #   \n",
            "=================================================================\n",
            "flatten_12 (Flatten)         (None, 784)               0         \n",
            "_________________________________________________________________\n",
            "dense_21 (Dense)             (None, 5)                 3925      \n",
            "_________________________________________________________________\n",
            "dense_22 (Dense)             (None, 5)                 30        \n",
            "_________________________________________________________________\n",
            "dense_23 (Dense)             (None, 10)                60        \n",
            "=================================================================\n",
            "Total params: 4,015\n",
            "Trainable params: 4,015\n",
            "Non-trainable params: 0\n",
            "_________________________________________________________________\n"
          ],
          "name": "stdout"
        }
      ]
    },
    {
      "cell_type": "code",
      "metadata": {
        "id": "gIvCwBPPctOs"
      },
      "source": [
        "# set random seed \n",
        "tf.random.set_seed(42)\n",
        "\n",
        "# Build model_2\n",
        "model_2 = tf.keras.Sequential([\n",
        "    tf.keras.layers.Flatten(input_shape=(28,28)),\n",
        "    tf.keras.layers.Dense(10, activation=\"relu\"),\n",
        "    tf.keras.layers.Dense(10, activation=\"relu\"),\n",
        "    tf.keras.layers.Dense(10, activation=\"softmax\"),\n",
        "])\n",
        "\n",
        "# Compile model\n",
        "model_2.compile(loss=tf.keras.losses.SparseCategoricalCrossentropy(),\n",
        "                optimizer=tf.keras.optimizers.Adam(learning_rate=0.01),\n",
        "                metrics=[\"accuracy\"])\n",
        "\n",
        "# early stopping callback\n",
        "early_stopping = tf.keras.callbacks.EarlyStopping(monitor=\"loss\", patience=3)\n",
        "\n",
        "# Fit model \n",
        "history_2 = model_2.fit(train_images_scaled, train_labels, epochs=50, callbacks=[early_stopping], verbose=0 )"
      ],
      "execution_count": 60,
      "outputs": []
    },
    {
      "cell_type": "code",
      "metadata": {
        "id": "zWNyehIvgB2_",
        "outputId": "92428e94-c3ff-44bc-fdaf-9c73ace341fb",
        "colab": {
          "base_uri": "https://localhost:8080/"
        }
      },
      "source": [
        "# Model_2 Evaluation\n",
        "loss,accuracy = model_2.evaluate(test_images_scaled, test_labels, verbose=0)\n",
        "\n",
        "print(f\"Model_2 evaluation loss: {loss}\")\n",
        "print(f\"Model_2 evaluation accuracy: {(accuracy * 100):.2f} %\")"
      ],
      "execution_count": 61,
      "outputs": [
        {
          "output_type": "stream",
          "text": [
            "Model_2 evaluation loss: 0.4343843162059784\n",
            "Model_2 evaluation accuracy: 85.21 %\n"
          ],
          "name": "stdout"
        }
      ]
    },
    {
      "cell_type": "markdown",
      "metadata": {
        "id": "D0zuJFMlg30B"
      },
      "source": [
        "For sure, Our Model_2 Outperforms model_1 by around 9 %\n",
        "\n",
        "lets visualize our loss curve for model 2 now and compare it to model_1 loss curve"
      ]
    },
    {
      "cell_type": "code",
      "metadata": {
        "id": "c8Z3gG6DhOBS",
        "outputId": "90351284-72d9-40e6-d4ff-557f17edec4b",
        "colab": {
          "base_uri": "https://localhost:8080/",
          "height": 590
        }
      },
      "source": [
        "pd.DataFrame(history_2.history).plot(title=\"Model_2 loss curve\", xlabel=\"Number of Epochs\")\n",
        "pd.DataFrame(history_1.history).plot(title=\"Model_1 loss curve\", xlabel=\"Number of Epochs\")"
      ],
      "execution_count": 65,
      "outputs": [
        {
          "output_type": "execute_result",
          "data": {
            "text/plain": [
              "<matplotlib.axes._subplots.AxesSubplot at 0x7ff2ec081a10>"
            ]
          },
          "metadata": {
            "tags": []
          },
          "execution_count": 65
        },
        {
          "output_type": "display_data",
          "data": {
            "image/png": "[encoded data removed]",
            "text/plain": [
              "<Figure size 432x288 with 1 Axes>"
            ]
          },
          "metadata": {
            "tags": [],
            "needs_background": "light"
          }
        },
        {
          "output_type": "display_data",
          "data": {
            "image/png": "[encoded data removed]",
            "text/plain": [
              "<Figure size 432x288 with 1 Axes>"
            ]
          },
          "metadata": {
            "tags": [],
            "needs_background": "light"
          }
        }
      ]
    },
    {
      "cell_type": "markdown",
      "metadata": {
        "id": "DXbN8nWeh7XZ"
      },
      "source": [
        "we can see model_2 loss curve goes much lower as compared to model_1 so surely our model_2 is best fit in this case.\n",
        "\n",
        "though we can try to improve our model more but for the time being model_2 is ready to use with around 85% accuracy rate.\n",
        "\n",
        "**Thankyu!**"
      ]
    }
  ]
}